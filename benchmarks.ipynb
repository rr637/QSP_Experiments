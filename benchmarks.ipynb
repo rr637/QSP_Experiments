{
 "cells": [
  {
   "cell_type": "code",
   "execution_count": 1,
   "metadata": {
    "tags": []
   },
   "outputs": [
    {
     "data": {
      "text/markdown": [
       "| method | qubits | cnots | runtime |\n",
       "| --- |:---:|:---:|:---:|\n",
       "| isa | 10 | 1420.2 | 0.7174319744110107 |\n",
       "| vqc | 10 | 51.0 | 83.52064890861512 |\n",
       "| ucg | 10 | 2658.0 | 2.858856439590454 |\n"
      ],
      "text/plain": [
       "<IPython.core.display.Markdown object>"
      ]
     },
     "metadata": {},
     "output_type": "display_data"
    }
   ],
   "source": []
  },
  {
   "cell_type": "code",
   "execution_count": 8,
   "metadata": {},
   "outputs": [
    {
     "name": "stdout",
     "output_type": "stream",
     "text": [
      "[2662, 2666, 2664, 2664, 2664, 2662, 2666, 2668, 2662, 2645]\n"
     ]
    }
   ],
   "source": [
    "import numpy as np\n",
    "import numpy as np\n",
    "import os\n",
    "from IPython.display import Markdown, display\n",
    "from qiskit import QuantumCircuit, QuantumRegister, transpile\n",
    "from qclib.state_preparation import UCGInitialize\n",
    "from datetime import datetime\n",
    "import time\n",
    "import qc\n",
    "import qiskit\n",
    "n_qubits = 10\n",
    "CX_ucg_counts = []\n",
    "Runtimes_ucg = []\n",
    "\n",
    "params = {'protein': 'homo_sapien', 'num_protein': 5, 'num_qubits':10, 'Avg_CX': 0, 'Avg_Runtime(s)': 0}\n",
    "\n",
    "coupling_map = []\n",
    "for i in range(n_qubits - 1):\n",
    "    coupling_map.append([i, i + 1])\n",
    "    coupling_map.append([i + 1, i])\n",
    "\n",
    "\n",
    "params['num_protein'] = 10\n",
    "for i in range(params['num_protein']):\n",
    "    state_file = f\"./States/state{i}.txt\"\n",
    "    state = []\n",
    "    with open(state_file, 'r') as file:\n",
    "        for line in file:\n",
    "            columns = line.split()  \n",
    "            if len(columns) >= 3:  \n",
    "\n",
    "                amp = float(columns[1])  \n",
    "                phase = float(columns[2])  \n",
    "                if phase == 0.0:  \n",
    "                    state.append(amp)\n",
    "                else:\n",
    "                    state.append(-1*amp)\n",
    "\n",
    "\n",
    "        state = state/np.linalg.norm(state)\n",
    "        ucg_time = time.time()\n",
    "\n",
    "        # qclib ucg\n",
    "        circuit_ucg = QuantumCircuit(n_qubits)\n",
    "        UCGInitialize.initialize(circuit_ucg, state)\n",
    "\n",
    "\n",
    "\n",
    "        circuits = [ ('ucg', circuit_ucg) ]\n",
    "\n",
    "\n",
    "\n",
    "        transpiled = qiskit.transpile(circuit_ucg, basis_gates=['u', 'cx'], coupling_map=coupling_map, optimization_level=3)\n",
    "        ucg_runtime = time.time() - ucg_time\n",
    "        Runtimes_ucg.append(ucg_runtime)\n",
    "        cx = transpiled.count_ops().get('cx', 0)\n",
    "        CX_ucg_counts.append(cx)\n",
    "print(CX_ucg_counts)"
   ]
  },
  {
   "cell_type": "code",
   "execution_count": null,
   "metadata": {},
   "outputs": [],
   "source": []
  }
 ],
 "metadata": {
  "kernelspec": {
   "display_name": "NERSC Python",
   "language": "python",
   "name": "python3"
  },
  "language_info": {
   "codemirror_mode": {
    "name": "ipython",
    "version": 3
   },
   "file_extension": ".py",
   "mimetype": "text/x-python",
   "name": "python",
   "nbconvert_exporter": "python",
   "pygments_lexer": "ipython3",
   "version": "3.11.6"
  }
 },
 "nbformat": 4,
 "nbformat_minor": 4
}
