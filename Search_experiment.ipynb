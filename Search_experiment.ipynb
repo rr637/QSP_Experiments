{
 "cells": [
  {
   "cell_type": "code",
   "execution_count": 2,
   "id": "73a9ef4f-f463-4000-9131-f4bffc0ce661",
   "metadata": {
    "tags": []
   },
   "outputs": [
    {
     "name": "stdout",
     "output_type": "stream",
     "text": [
      "Files created successfully.\n"
     ]
    }
   ],
   "source": [
    "import shutil\n",
    "\n",
    "# Define the original file path\n",
    "original_file_path = '/global/homes/r/rr637/QSP_codes_archive/search_cpp_demo0.py'  # Replace this with the actual path\n",
    "\n",
    "# Define the destination directory where modified copies will be stored\n",
    "destination_directory = '/global/homes/r/rr637/QSP_codes_archive'  # Replace this with the actual path\n",
    "\n",
    "# Create 50 copies of the file with modified lines\n",
    "for i in range(1,50):\n",
    "    # Read the original file content\n",
    "    with open(original_file_path, 'r') as original_file:\n",
    "        content = original_file.read()\n",
    "\n",
    "    # Modify the specific line in the content\n",
    "    modified_content = content.replace('state0.txt', f'state{i}.txt')\n",
    "\n",
    "    # Create a new file with the modified content\n",
    "    new_file_path = f'{destination_directory}/search_cpp_demo{i}.py'\n",
    "    with open(new_file_path, 'w') as new_file:\n",
    "        new_file.write(modified_content)\n",
    "\n",
    "# Notify once the process is complete\n",
    "print(\"Files created successfully.\")"
   ]
  },
  {
   "cell_type": "code",
   "execution_count": 8,
   "id": "8e42c0f8-59a4-4ee1-812a-525e33a8e6b9",
   "metadata": {
    "tags": []
   },
   "outputs": [
    {
     "name": "stdout",
     "output_type": "stream",
     "text": [
      "Files created successfully.\n"
     ]
    }
   ],
   "source": [
    "original_file_path = '/global/homes/r/rr637/QSP_codes_archive/Search0.sh'  # Replace this with the actual path\n",
    "\n",
    "# Define the destination directory where modified copies will be stored\n",
    "destination_directory = '/global/homes/r/rr637/QSP_codes_archive/Search'  # Replace this with the actual path\n",
    "\n",
    "# Create 50 copies of the file with modified lines\n",
    "for i in range(1,50):\n",
    "    # Read the original file content\n",
    "    with open(original_file_path, 'r') as original_file:\n",
    "        content = original_file.read()\n",
    "\n",
    "    # Modify the specific line in the content\n",
    "    modified_content = content.replace('search_cpp_demo0.py', f'search_cpp_demo{i}.py')\n",
    "\n",
    "    # Create a new file with the modified content\n",
    "    new_file_path = f'{destination_directory}/Search{i}.sh'\n",
    "    with open(new_file_path, 'w') as new_file:\n",
    "        new_file.write(modified_content)\n",
    "\n",
    "# Notify once the process is complete\n",
    "print(\"Files created successfully.\")"
   ]
  },
  {
   "cell_type": "code",
   "execution_count": 6,
   "id": "966fc3c1-432b-4017-bd9d-2f1053919516",
   "metadata": {},
   "outputs": [],
   "source": [
    "with open('job.txt','w') as file:\n",
    "    for i in range(50):\n",
    "        file.write(f'sbatch Search{i}.sh \\n')\n",
    "\n"
   ]
  },
  {
   "cell_type": "code",
   "execution_count": null,
   "id": "e6ba5afa-27dd-4d9e-bf44-669353b70099",
   "metadata": {},
   "outputs": [],
   "source": []
  }
 ],
 "metadata": {
  "kernelspec": {
   "display_name": "NERSC Python",
   "language": "python",
   "name": "python3"
  },
  "language_info": {
   "codemirror_mode": {
    "name": "ipython",
    "version": 3
   },
   "file_extension": ".py",
   "mimetype": "text/x-python",
   "name": "python",
   "nbconvert_exporter": "python",
   "pygments_lexer": "ipython3",
   "version": "3.11.6"
  }
 },
 "nbformat": 4,
 "nbformat_minor": 5
}
